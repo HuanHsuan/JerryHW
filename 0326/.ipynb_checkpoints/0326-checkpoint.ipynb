{
 "cells": [
  {
   "cell_type": "markdown",
   "metadata": {},
   "source": [
    "HW1"
   ]
  },
  {
   "cell_type": "code",
   "execution_count": 22,
   "metadata": {},
   "outputs": [
    {
     "name": "stdout",
     "output_type": "stream",
     "text": [
      "請輸入數字:9\n"
     ]
    },
    {
     "data": {
      "text/plain": [
       "[109]"
      ]
     },
     "execution_count": 22,
     "metadata": {},
     "output_type": "execute_result"
    }
   ],
   "source": [
    "x=int(input(\"請輸入數字:\"))\n",
    "y_list=list()\n",
    "y_list.append(x)\n",
    "list(map(lambda x:x+100,y_list))"
   ]
  },
  {
   "cell_type": "markdown",
   "metadata": {},
   "source": [
    "HW2"
   ]
  },
  {
   "cell_type": "code",
   "execution_count": 4,
   "metadata": {},
   "outputs": [],
   "source": [
    "def multiply_ints(multiply):\n",
    "    def new_multiply(q,w):\n",
    "        result=multiply(q,w)\n",
    "        print('結果:',result)\n",
    "        print(\"multiply_ints:\",q*w)\n",
    "    return new_multiply"
   ]
  },
  {
   "cell_type": "code",
   "execution_count": 5,
   "metadata": {},
   "outputs": [],
   "source": [
    "@multiply_ints\n",
    "def add_ints(a, b):\n",
    "    return a + b"
   ]
  },
  {
   "cell_type": "code",
   "execution_count": 6,
   "metadata": {},
   "outputs": [
    {
     "name": "stdout",
     "output_type": "stream",
     "text": [
      "結果: 12\n",
      "multiply_ints: 20\n"
     ]
    }
   ],
   "source": [
    "add_ints(2,10) "
   ]
  },
  {
   "cell_type": "markdown",
   "metadata": {},
   "source": [
    "HW3"
   ]
  },
  {
   "cell_type": "code",
   "execution_count": 11,
   "metadata": {},
   "outputs": [
    {
     "name": "stdout",
     "output_type": "stream",
     "text": [
      "請輸入數值:10\n",
      "10\n"
     ]
    }
   ],
   "source": [
    "try:\n",
    "    a=int(input(\"請輸入數值:\"))\n",
    "    print(a)\n",
    "except:\n",
    "    print(\"出錯，請重新輸入\")"
   ]
  },
  {
   "cell_type": "markdown",
   "metadata": {},
   "source": [
    "HW4"
   ]
  },
  {
   "cell_type": "code",
   "execution_count": 6,
   "metadata": {},
   "outputs": [
    {
     "name": "stdout",
     "output_type": "stream",
     "text": [
      "請輸入數字:9\n",
      "請輸入數字:0\n",
      "請輸入+-*/ *\n",
      "0\n",
      "None\n"
     ]
    }
   ],
   "source": [
    "from sources import calc\n",
    "print(calc.calculator())"
   ]
  },
  {
   "cell_type": "code",
   "execution_count": null,
   "metadata": {},
   "outputs": [],
   "source": []
  }
 ],
 "metadata": {
  "kernelspec": {
   "display_name": "Python 3",
   "language": "python",
   "name": "python3"
  },
  "language_info": {
   "codemirror_mode": {
    "name": "ipython",
    "version": 3
   },
   "file_extension": ".py",
   "mimetype": "text/x-python",
   "name": "python",
   "nbconvert_exporter": "python",
   "pygments_lexer": "ipython3",
   "version": "3.6.4"
  }
 },
 "nbformat": 4,
 "nbformat_minor": 2
}
